{
 "cells": [
  {
   "cell_type": "code",
   "execution_count": null,
   "id": "f1de2972-46d5-44b8-84e3-761f2e6e30a4",
   "metadata": {},
   "outputs": [],
   "source": [
    "from read_penguin import load_3D_data, cell_center\n",
    "import matplotlib as mpl\n",
    "import matplotlib.pyplot as plt\n",
    "import numpy as np\n",
    "import geometry as geo\n",
    "from Interpolate3DSpherical import triInterpolate, interpolate3DSpherical, binSearch"
   ]
  },
  {
   "cell_type": "code",
   "execution_count": null,
   "id": "16ac6b54-97a7-4285-9430-4b4aa7f69549",
   "metadata": {
    "tags": []
   },
   "outputs": [],
   "source": [
    "def density(x, y, z, data):\n",
    "    xVals = cell_center(data[1])\n",
    "    yVals = cell_center(data[2])\n",
    "    zVals = cell_center(data[3])\n",
    "    dens = data[4]\n",
    "    r = [x, y, z]\n",
    "    den = interpolate3DSpherical(xVals, yVals, zVals, dens, r)\n",
    "    return den"
   ]
  },
  {
   "cell_type": "code",
   "execution_count": null,
   "id": "e978a8fc-433d-4761-9e82-3ea615b73fd0",
   "metadata": {},
   "outputs": [],
   "source": [
    "def finddens3D(x, y, z, data, planetPosition):\n",
    "    \n",
    "    #transforming input planet coordinates to cartesian\n",
    "    sphepolar = (x,y,z)\n",
    "    cartesian = geo.sphericalToCartesian(sphepolar, dim=3)\n",
    "    \n",
    "    #transforming to star-centric spherical and interpolating\n",
    "    StarCentricCart = np.array(cartesian) + np.array(geo.sphericalToCartesian(planetPosition, dim = 3))\n",
    "    starCentric = geo.cartesianToSpherical(StarCentricCart, dim = 3)\n",
    "    den = density(starCentric[0], starCentric[1], starCentric[2], data)\n",
    "    return den\n"
   ]
  },
  {
   "cell_type": "code",
   "execution_count": null,
   "id": "6a5db444-9fae-4e39-89de-108f27862b68",
   "metadata": {},
   "outputs": [],
   "source": [
    "#Loading density data\n",
    "\n",
    "xres = 384\n",
    "yres = 768\n",
    "zres = 216\n",
    "data = load_3D_data(\"/scratch/mtalukd/sc/scratch/3DAdiabaticParameterChange/Gamma1.4/\", xres, yres, zres, \"h50_1p1J_e0_PPM4\", 0)\n"
   ]
  },
  {
   "cell_type": "code",
   "execution_count": null,
   "id": "b411c42f-0415-43c6-bf05-3e80bdfd5905",
   "metadata": {
    "tags": []
   },
   "outputs": [],
   "source": [
    "#creating a 2D grid around midplane\n",
    "planetCoord = (1, np.pi, np.pi*0.5)\n",
    "planetCoordCart = geo.sphericalToCartesian(planetCoord, dim = 3)\n",
    "\n",
    "\n",
    "def populateX(i, data):\n",
    "    return 0 + 0.1*i/500\n",
    "\n",
    "def populateY(i, data):\n",
    "    return 2*np.pi*i/500\n",
    "\n",
    "\n",
    "planetX = np.ndarray(500)\n",
    "planetY = np.ndarray(500)\n",
    "\n",
    "\n",
    "for i in range(500):\n",
    "    planetX[i] = populateX(i, data)\n",
    "    planetY[i] = populateY(i, data)\n",
    "    \n",
    "\n",
    "DensNew = np.ndarray((500,500))\n",
    "\n",
    "for i in range(500):\n",
    "    for j in range(500):\n",
    "        d = finddens3D(planetX[i], planetY[j], np.pi*0.5, data, planetCoord)\n",
    "        DensNew[i,j] = d\n",
    "print(DensNew)\n",
    "#polar = np.pi*0.5 - 0.005\n",
    "#d = finddens3D(0.00001, 1, polar, data, planetCoord)\n"
   ]
  },
  {
   "cell_type": "code",
   "execution_count": null,
   "id": "af0148b5-c2f4-4f91-bc78-38bc6ca5a3bb",
   "metadata": {},
   "outputs": [],
   "source": [
    "plt.figure()\n",
    "plt.pcolor(planetY, planetX, DensNew, cmap = \"RdBu\")\n",
    "plt.title(\"Density\")\n",
    "plt.ylabel(\"R\")\n",
    "plt.xlabel(\"Theta Azi (Rad)\")\n",
    "plt.colorbar()\n",
    "plt.savefig(\"gamma1.4radiusvazi.png\", dpi=300)\n",
    "plt.show()"
   ]
  },
  {
   "cell_type": "code",
   "execution_count": null,
   "id": "0ec3888d-394c-4152-a623-609528995fd6",
   "metadata": {},
   "outputs": [],
   "source": [
    "fig, ax = plt.subplots(subplot_kw = {'projection': 'polar'})\n",
    "ax.grid(False)\n",
    "plt.pcolormesh(data[2], data[1], np.transpose(data[4][-1]), cmap = \"RdBu\")\n",
    "plt.colorbar()\n",
    "plt.savefig(\"raw_gamma1.4planet24.png\", dpi=300)\n",
    "plt.show()"
   ]
  },
  {
   "cell_type": "code",
   "execution_count": null,
   "id": "caedcc8c-3108-4cd4-ae18-f86efb8ba1a3",
   "metadata": {
    "tags": []
   },
   "outputs": [],
   "source": [
    "#plotting vertical circles \n",
    "\n",
    "planetCoord = (1, np.pi, np.pi*0.5)\n",
    "planetCoordCart = geo.sphericalToCartesian(planetCoord, dim = 3)\n",
    "imax = 100\n",
    "kmax = 100\n",
    "\n",
    "def populateX(i, imax, data):\n",
    "    return 0.0 + 0.1*i/imax\n",
    "\n",
    "def populateZ(i, kmax, data):\n",
    "    return np.pi*i/kmax\n",
    "\n",
    "\n",
    "planetX = np.ndarray(imax)\n",
    "planetZ = np.ndarray(kmax)\n",
    "\n",
    "\n",
    "for i in range(imax):\n",
    "    planetX[i] = populateX(i, imax, data)\n",
    "    planetZ[i] = populateZ(i, kmax, data)\n",
    "    \n",
    "\n",
    "DensNew1 = np.ndarray((imax,kmax))\n",
    "\n",
    "for i in range(imax):\n",
    "    for k in range(kmax):\n",
    "        d = finddens3D(planetX[i], np.pi, planetZ[k] , data, planetCoord)\n",
    "        DensNew1[i,k] = d\n",
    "        #print(d)\n",
    "print(DensNew1)"
   ]
  },
  {
   "cell_type": "code",
   "execution_count": null,
   "id": "63be64f0-d3f7-47fe-b87a-3360637d7ce1",
   "metadata": {},
   "outputs": [],
   "source": [
    "plt.figure()\n",
    "plt.pcolor(planetZ, planetX, DensNew1, cmap = \"RdBu\")\n",
    "plt.title(\"Density\")\n",
    "plt.ylabel(\"R\")\n",
    "plt.xlabel(\"Theta Polar (Rad)\")\n",
    "plt.clim(0,2)\n",
    "plt.colorbar()\n",
    "plt.savefig(\"gamma1.4radiusvpolar.png\", dpi=300)"
   ]
  },
  {
   "cell_type": "code",
   "execution_count": null,
   "id": "6604de93-0277-435c-a881-533a60326ce3",
   "metadata": {
    "tags": []
   },
   "outputs": [],
   "source": [
    "print(finddens3D(0.002, np.pi, 1.6 , data, planetCoord))"
   ]
  },
  {
   "cell_type": "code",
   "execution_count": null,
   "id": "4eb3f153-aab9-4665-8766-fc4af0937016",
   "metadata": {},
   "outputs": [],
   "source": []
  }
 ],
 "metadata": {
  "kernelspec": {
   "display_name": "Python 3 (ipykernel)",
   "language": "python",
   "name": "python3"
  },
  "language_info": {
   "codemirror_mode": {
    "name": "ipython",
    "version": 3
   },
   "file_extension": ".py",
   "mimetype": "text/x-python",
   "name": "python",
   "nbconvert_exporter": "python",
   "pygments_lexer": "ipython3",
   "version": "3.12.5"
  }
 },
 "nbformat": 4,
 "nbformat_minor": 5
}
