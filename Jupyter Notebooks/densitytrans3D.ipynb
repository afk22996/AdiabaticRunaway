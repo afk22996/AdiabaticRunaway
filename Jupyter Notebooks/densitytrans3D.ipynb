{
 "cells": [
  {
   "cell_type": "code",
   "execution_count": 1,
   "id": "a575fa88-535f-4abd-87bb-4431f7790fd8",
   "metadata": {},
   "outputs": [],
   "source": [
    "import sys\n",
    "sys.path.insert(1, '/home/afkirby/PEnGUIn/read/Analysis')"
   ]
  },
  {
   "cell_type": "code",
   "execution_count": 2,
   "id": "2b72daf6-e2bb-4cdf-9e16-ddc1c0bc07c8",
   "metadata": {},
   "outputs": [],
   "source": [
    "from read_penguin import load_3D_data\n",
    "import matplotlib as mpl\n",
    "import matplotlib.pyplot as plt\n",
    "import numpy as np\n",
    "import geometry as geo\n",
    "from Interpolate import triInterpolate\n",
    "from Search import binSearch"
   ]
  },
  {
   "cell_type": "code",
   "execution_count": 3,
   "id": "c39e080e-c299-4e91-9cbd-d26fec259ca5",
   "metadata": {},
   "outputs": [],
   "source": [
    "#Function to interpolate the densities to a given cartesian coordinate (x, y, z) from a polar data source\n",
    "\n",
    "def density(x, y, z, data):\n",
    "    xVals = data[1]\n",
    "    yVals = data[2]\n",
    "    zVals = data[3]\n",
    "    dens = data[4]\n",
    "    \n",
    "    #Finding indices in the data between which the target points lie\n",
    "    xPoints = binSearch(xVals, 0, len(xVals), x)\n",
    "    yPoints = binSearch(yVals, 0, len(yVals), y)\n",
    "    zPoints = binSearch(zVals, 0, len(zVals), z) \n",
    "    \n",
    "    #Applying Boundary Conditions (y and z in this case is angle, so it should be periodic but x is radius so anything outside of data set is made to be 0)\n",
    "    if(xPoints[0] == -np.infty):\n",
    "        return 0\n",
    "    elif(xPoints[1] == np.infty):\n",
    "        return 0\n",
    "    if(yPoints[0] == -np.infty):\n",
    "        yPoints = (0, len(yVals)-2)\n",
    "    elif(yPoints[1] == np.infty):\n",
    "        yPoints = (len(yVals)-2, 0)\n",
    "    if(zPoints[0] == -np.infty):\n",
    "        return 0\n",
    "    elif(zPoints[1] == np.infty):\n",
    "        return 0\n",
    "        \n",
    "    #Setting up grid points for interpolation \n",
    "    lowx = xPoints[0]\n",
    "    highx = xPoints[1]\n",
    "    lowy = yPoints[0]\n",
    "    highy = yPoints[1]\n",
    "    lowz = zPoints[0]\n",
    "    highz = zPoints[1]\n",
    "    \n",
    "    #Creating values at each cube lattice point and interpolating\n",
    "    \n",
    "    targetCoords = (x,y,z)\n",
    "    minCoords = (xVals[lowx], yVals[lowy], zVals[lowz])\n",
    "    maxCoords = (xVals[highx], yVals[highy], zVals[highz])\n",
    "    \n",
    "    cubeVals = [dens[lowz,lowy,lowx], dens[lowz,highy,lowx], dens[lowz,lowy,highx], dens[highz,lowy,lowx], dens[lowz,highy,highx], dens[highz,lowy,highx], dens[highz,highy,lowx], dens[highz,highy,highx]]\n",
    "    \n",
    "    den = triInterpolate(targetCoords, cubeVals, minCoords, maxCoords)\n",
    "    geo.sphericalToCartesian(targetCoords, den, dim = 3)\n",
    "    return den\n",
    "    "
   ]
  },
  {
   "cell_type": "code",
   "execution_count": 4,
   "id": "10d89b5e-bfa3-40ea-ad09-23e09eac3af4",
   "metadata": {},
   "outputs": [],
   "source": [
    "#Function to interpolate from the 2D cartesian grid to another 2D polar grid\n",
    "#Assumes cartesiaan boundary conditions instead of polar (i.e. everything outside of data range is 0)\n",
    "#The different inputs are due to not assuming that the data coming is from read_penguin\n",
    "\n",
    "def cartDensity(x, y, z, xVals, yVals, zVals, dens):\n",
    "    xPoints = binSearch(xVals, 0, len(xVals), x)\n",
    "    yPoints = binSearch(yVals, 0, len(yVals), y)\n",
    "    zPoints = binSearch(zVals, 0, len(zVals), z)\n",
    "    \n",
    "    if(xPoints[0] == -np.infty or yPoints[0] == -np.infty):\n",
    "        return 0\n",
    "    if(xPoints[1] == np.infty or yPoints[1] == np.infty):\n",
    "        return 0\n",
    "    \n",
    "    lowx = xPoints[0]\n",
    "    highx = xPoints[1]\n",
    "    lowy = yPoints[0]\n",
    "    highy = yPoints[1]\n",
    "    lowz = zPoints[0]\n",
    "    highz = zPoints[0]\n",
    "    \n",
    "    cubeVals = [dens[lowz,lowy,lowx], dens[lowz,highy,lowx], dens[lowz,lowy,highx], dens[highz,lowy,lowx], dens[lowz,highy,highx], dens[highz,lowy,highx], dens[highz,highy,lowx], dens[highz,highy,highx]]\n",
    "    targetCoords = (x,y,z)\n",
    "    minCoords = (xVals[lowx], yVals[lowy], zVals[lowz])\n",
    "    maxCoords = (xVals[highx], yVals[highy], zVals[highz])\n",
    "    den = triInterpolate(targetCoords, cubeVals, minCoords, maxCoords)\n",
    "    polar = geo.cartesianToSpherical(cartesian, 3)\n",
    "    return polar"
   ]
  },
  {
   "cell_type": "code",
   "execution_count": 10,
   "id": "9b6287f3-7cd8-4021-b8d4-139c41dfa325",
   "metadata": {},
   "outputs": [],
   "source": [
    "#Loading density data\n",
    "\n",
    "xres = 384\n",
    "yres = 768\n",
    "zres = 216\n",
    "data = load_3D_data(\"/scratch/afkirby/3DAdiabaticParameterChange/Gamma1.4/\", xres, yres, zres, \"h50_1p1J_e0_PPM4\", 28)\n"
   ]
  },
  {
   "cell_type": "code",
   "execution_count": 11,
   "id": "a06f41d8-1cf5-4d55-980f-e48906d44330",
   "metadata": {},
   "outputs": [
    {
     "data": {
      "image/png": "[encoded data removed]",
      "text/plain": [
       "<Figure size 432x288 with 2 Axes>"
      ]
     },
     "metadata": {
      "needs_background": "light"
     },
     "output_type": "display_data"
    }
   ],
   "source": [
    "plt.pcolor(data[1],data[2],data[4][-1], cmap=\"inferno\")\n",
    "plt.colorbar()\n",
    "plt.show()"
   ]
  },
  {
   "cell_type": "code",
   "execution_count": 12,
   "id": "44439131-d6ab-43cc-9041-b0cacfd1027e",
   "metadata": {},
   "outputs": [],
   "source": [
    "#Creating cartesian grid/defining planet position in both coordinate systems\n",
    "\n",
    "coordX = np.ndarray(251)\n",
    "coordY = np.ndarray(251)\n",
    "coordZ = np.ndarray(101)\n",
    "planetCoords = (1, np.pi, np.pi/2)\n",
    "planetCoordsCart = geo.sphericalToCartesian(planetCoords, dim = 3)"
   ]
  },
  {
   "cell_type": "code",
   "execution_count": 13,
   "id": "a29821aa-a341-4230-a818-a91e87b5da30",
   "metadata": {},
   "outputs": [],
   "source": [
    "#Populating Cartesian Grid\n",
    "\n",
    "for i in range(251):\n",
    "    coordX[i] = -data[1][-1] + 2*data[1][-1]*(i)/250\n",
    "    \n",
    "for j in range(251):\n",
    "    coordY[j] = -data[1][-1] + 2*data[1][-1]*(j)/250\n",
    "\n",
    "for k in range(101):\n",
    "    coordZ[k] = -data[1][-1] + 2*data[1][-1]*(k)/100\n"
   ]
  },
  {
   "cell_type": "code",
   "execution_count": 14,
   "id": "aa22f10f-6814-48ec-b7c3-aaa56bacbe72",
   "metadata": {},
   "outputs": [
    {
     "ename": "TypeError",
     "evalue": "sphericalToCartesian() got multiple values for argument 'dim'",
     "output_type": "error",
     "traceback": [
      "\u001b[0;31m---------------------------------------------------------------------------\u001b[0m",
      "\u001b[0;31mTypeError\u001b[0m                                 Traceback (most recent call last)",
      "Input \u001b[0;32mIn [14]\u001b[0m, in \u001b[0;36m<cell line: 4>\u001b[0;34m()\u001b[0m\n\u001b[1;32m      7\u001b[0m cartesian \u001b[38;5;241m=\u001b[39m (coordZ[k], coordY[j], coordX[i])\n\u001b[1;32m      8\u001b[0m polar \u001b[38;5;241m=\u001b[39m geo\u001b[38;5;241m.\u001b[39mcartesianToSpherical(cartesian, \u001b[38;5;241m3\u001b[39m)\n\u001b[0;32m----> 9\u001b[0m gam10denCart[k,j,i] \u001b[38;5;241m=\u001b[39m \u001b[43mdensity\u001b[49m\u001b[43m(\u001b[49m\u001b[43mpolar\u001b[49m\u001b[43m[\u001b[49m\u001b[38;5;241;43m0\u001b[39;49m\u001b[43m]\u001b[49m\u001b[43m,\u001b[49m\u001b[43m \u001b[49m\u001b[43mpolar\u001b[49m\u001b[43m[\u001b[49m\u001b[38;5;241;43m1\u001b[39;49m\u001b[43m]\u001b[49m\u001b[43m,\u001b[49m\u001b[43m \u001b[49m\u001b[43mpolar\u001b[49m\u001b[43m[\u001b[49m\u001b[38;5;241;43m2\u001b[39;49m\u001b[43m]\u001b[49m\u001b[43m,\u001b[49m\u001b[43m \u001b[49m\u001b[43mdata\u001b[49m\u001b[43m)\u001b[49m\n",
      "Input \u001b[0;32mIn [3]\u001b[0m, in \u001b[0;36mdensity\u001b[0;34m(x, y, z, data)\u001b[0m\n\u001b[1;32m     42\u001b[0m cubeVals \u001b[38;5;241m=\u001b[39m [dens[lowz,lowy,lowx], dens[lowz,highy,lowx], dens[lowz,lowy,highx], dens[highz,lowy,lowx], dens[lowz,highy,highx], dens[highz,lowy,highx], dens[highz,highy,lowx], dens[highz,highy,highx]]\n\u001b[1;32m     44\u001b[0m den \u001b[38;5;241m=\u001b[39m triInterpolate(targetCoords, cubeVals, minCoords, maxCoords)\n\u001b[0;32m---> 45\u001b[0m \u001b[43mgeo\u001b[49m\u001b[38;5;241;43m.\u001b[39;49m\u001b[43msphericalToCartesian\u001b[49m\u001b[43m(\u001b[49m\u001b[43mtargetCoords\u001b[49m\u001b[43m,\u001b[49m\u001b[43m \u001b[49m\u001b[43mden\u001b[49m\u001b[43m,\u001b[49m\u001b[43m \u001b[49m\u001b[43mdim\u001b[49m\u001b[43m \u001b[49m\u001b[38;5;241;43m=\u001b[39;49m\u001b[43m \u001b[49m\u001b[38;5;241;43m3\u001b[39;49m\u001b[43m)\u001b[49m\n\u001b[1;32m     46\u001b[0m \u001b[38;5;28;01mreturn\u001b[39;00m den\n",
      "\u001b[0;31mTypeError\u001b[0m: sphericalToCartesian() got multiple values for argument 'dim'"
     ]
    }
   ],
   "source": [
    "#Interpolating over polar array to find data for cartesian coordinates\n",
    "\n",
    "gam10denCart = np.ndarray((101,251,251))\n",
    "for k in range(101):\n",
    "    for j in range(251):\n",
    "        for i in range(251):\n",
    "            cartesian = (coordZ[k], coordY[j], coordX[i])\n",
    "            polar = geo.cartesianToSpherical(cartesian, 3)\n",
    "            gam10denCart[k,j,i] = density(polar[0], polar[1], polar[2], data)"
   ]
  },
  {
   "cell_type": "code",
   "execution_count": null,
   "id": "e0414e4c-0f01-4caf-b031-4a812bc149c4",
   "metadata": {},
   "outputs": [],
   "source": []
  },
  {
   "cell_type": "code",
   "execution_count": null,
   "id": "02b15fbd-8cda-444d-8883-e776c3d30996",
   "metadata": {},
   "outputs": [],
   "source": [
    "#Shifting Cartesian Grid to be planet-centric\n",
    "\n",
    "for i in range(251):\n",
    "    coordX[i] = coordX[i] - planetCoordsCart[0]\n",
    "    coordY[i] = coordY[i] - planetCoordsCart[1]\n",
    "for i in range(101):\n",
    "    coordZ[i] = coordZ[i] - planetCoordsCart[2]\n",
    "\n",
    "#Creating planet-centric polar grid\n",
    "\n",
    "gam10denplanet = np.ndarray((xres, yres, zres))\n",
    "planetR = np.ndarray(xres+1)\n",
    "planetTheta = np.ndarray(yres+1)\n",
    "planetPhi = np.ndarray(zres+1)\n",
    "\n",
    "for i in range(xres+1):\n",
    "    planetR[i] = 0.9*i/(xres)\n",
    "for j in range(yres+1):\n",
    "    planetTheta[j] = 2*np.pi*j/(yres)\n",
    "for k in range(zres+1):\n",
    "    planetPhi[k] = np.pi*k/(zres)\n",
    "\n",
    "#Interpolating over cartesian grid to find data for the new, planet-centric, polar grid\n",
    "for i in range(xres):\n",
    "    for j in range(yres):\n",
    "        for k in range(zres):\n",
    "            polar = (planetR[i], planetTheta[j], planetPhi[k])\n",
    "            cartesian = geo.sphericalToCartesian(polar, 3)\n",
    "            gam10denplanet[i,j,k] = cartDensity(cartesian[0], cartesian[1], cartesian[2], coordX, coordY, coordZ, gam10denCart)\n",
    "            "
   ]
  },
  {
   "cell_type": "code",
   "execution_count": null,
   "id": "a996d8d1-bb8c-4fe4-aa80-2553a45a9d15",
   "metadata": {},
   "outputs": [],
   "source": [
    "#Plotting\n",
    "if __name__ == \"__main__\":\n",
    "    plt.figure()\n",
    "    plt.pcolor(planetTheta, planetR, gam10denplanet)\n",
    "    plt.title(\"Final Planet-Centric Isothermal Density\")\n",
    "    plt.xlabel(\"Theta (Rad)\")\n",
    "    plt.ylabel(\"R (Planet a)\")\n",
    "    plt.colorbar()\n",
    "    plt.savefig(filepath + \"Gamma1.0FinalDensityPolarPlanet.png\")\n",
    "    plt.show()"
   ]
  },
  {
   "cell_type": "code",
   "execution_count": null,
   "id": "2c760c6c-b8ae-4c83-a511-5e47ced8995b",
   "metadata": {},
   "outputs": [],
   "source": []
  }
 ],
 "metadata": {
  "kernelspec": {
   "display_name": "Python 3 (ipykernel)",
   "language": "python",
   "name": "python3"
  },
  "language_info": {
   "codemirror_mode": {
    "name": "ipython",
    "version": 3
   },
   "file_extension": ".py",
   "mimetype": "text/x-python",
   "name": "python",
   "nbconvert_exporter": "python",
   "pygments_lexer": "ipython3",
   "version": "3.9.12"
  }
 },
 "nbformat": 4,
 "nbformat_minor": 5
}
