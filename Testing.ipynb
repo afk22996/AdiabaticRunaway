{
 "cells": [
  {
   "cell_type": "code",
   "execution_count": 1,
   "id": "35003455-bdf1-46cc-a622-c738bb622aeb",
   "metadata": {
    "tags": []
   },
   "outputs": [],
   "source": [
    "import sys\n",
    "sys.path.insert(1, '/home/afkirby/Analysis')\n",
    "import Geometry as geo\n",
    "from Transform import getVel3D\n",
    "from Flow import flowLine3D, isHorseshoe\n",
    "import numpy as np\n",
    "from read_penguin import load_3D_data, cell_center\n",
    "from matplotlib import pyplot as plt\n",
    "from time import time"
   ]
  },
  {
   "cell_type": "code",
   "execution_count": 2,
   "id": "394db58a-d706-4f33-a8fb-e10eb2638ff6",
   "metadata": {
    "tags": []
   },
   "outputs": [],
   "source": [
    "#Loading Data\n",
    "xres3d = 288\n",
    "yres3d = 480\n",
    "zres3d = 144\n",
    "data3d = load_3D_data(\"/scratch/afkirby/3DRsVariation/rs001/\", xres3d, yres3d, zres3d, \"h50_1p10E_e0_PPM4_ave\", 10)"
   ]
  },
  {
   "cell_type": "code",
   "execution_count": 3,
   "id": "12c50b39-56ef-4156-9c4e-7d654e638516",
   "metadata": {},
   "outputs": [],
   "source": [
    "planetCoords = (1,np.pi,np.pi/2)\n",
    "xp, yp, zp = geo.sphericalToCartesian(planetCoords, dim = 3)\n",
    "planetVel = (0,1,0)\n",
    "\n",
    "def isoVel3D(x, y):\n",
    "    coords = geo.cartesianToSpherical(y, dim = 3)\n",
    "    v = getVel3D(coords, planetCoords, planetVel, data3d, cart = True)\n",
    "    return v"
   ]
  },
  {
   "cell_type": "code",
   "execution_count": 4,
   "id": "1d497158-2963-432a-ac50-a3c52f8806d7",
   "metadata": {},
   "outputs": [],
   "source": [
    "def velMag(v):\n",
    "    return np.sqrt(v[0]**2 + v[1]**2 + v[2]**2)"
   ]
  },
  {
   "cell_type": "code",
   "execution_count": 6,
   "id": "a262d8c7-ca07-4299-b27c-e32aa328c881",
   "metadata": {},
   "outputs": [
    {
     "name": "stdout",
     "output_type": "stream",
     "text": [
      "0.00040340423583984375\n"
     ]
    }
   ],
   "source": [
    "t1 = time()\n",
    "v = velMag(isoVel3D(0, (0,0,0)))\n",
    "print(time() - t1)"
   ]
  },
  {
   "cell_type": "code",
   "execution_count": null,
   "id": "6a8ecf8c-b198-4152-8819-9cc07667b8d0",
   "metadata": {},
   "outputs": [],
   "source": []
  }
 ],
 "metadata": {
  "kernelspec": {
   "display_name": "Python 3 (ipykernel)",
   "language": "python",
   "name": "python3"
  },
  "language_info": {
   "codemirror_mode": {
    "name": "ipython",
    "version": 3
   },
   "file_extension": ".py",
   "mimetype": "text/x-python",
   "name": "python",
   "nbconvert_exporter": "python",
   "pygments_lexer": "ipython3",
   "version": "3.11.5"
  }
 },
 "nbformat": 4,
 "nbformat_minor": 5
}
